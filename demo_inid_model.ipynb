{
 "cells": [
  {
   "cell_type": "code",
   "execution_count": 1,
   "metadata": {},
   "outputs": [
    {
     "name": "stdout",
     "output_type": "stream",
     "text": [
      "RotatedPlanarCode(7, 7)\n",
      "INIDErrorModel()\n",
      "RotatedPlanarSMWPMDecoder(None)\n"
     ]
    }
   ],
   "source": [
    "%run demos/qsu.ipynb  # color-printing functions\n",
    "import numpy as np\n",
    "from qecsim import paulitools as pt\n",
    "from qecsim.models.generic import INIDErrorModel\n",
    "from qecsim.models.rotatedplanar import RotatedPlanarCode, RotatedPlanarSMWPMDecoder\n",
    "\n",
    "# set random seed for reproducibility\n",
    "rng = np.random.default_rng(12)\n",
    "\n",
    "# initialise models\n",
    "my_code = RotatedPlanarCode(7, 7)\n",
    "\n",
    "T_1 = rng.random(my_code.n_k_d[0])/10\n",
    "T_2 = rng.random(my_code.n_k_d[0])/10\n",
    "my_error_model = INIDErrorModel(T_1, T_2)\n",
    "my_decoder = RotatedPlanarSMWPMDecoder()\n",
    "# print models\n",
    "print(my_code)\n",
    "print(my_error_model)\n",
    "print(my_decoder)"
   ]
  },
  {
   "cell_type": "code",
   "execution_count": 53,
   "metadata": {},
   "outputs": [
    {
     "data": {
      "text/html": [
       "<div class=\"highlight\"><pre style=\"line-height:1!important;\">error:\n",
       "  ┌───┐   ┌───┐   ┌───┐      \n",
       "  ·───·───·───<span style=\"color:blue; font-weight:bold\">Z</span>───<span style=\"color:blue; font-weight:bold\">Z</span>───·───·─┐\n",
       "  │░░░│   │░░░│   │░░░│   │░│\n",
       "┌─·───<span style=\"color:magenta; font-weight:bold\">Y</span>───<span style=\"color:blue; font-weight:bold\">Z</span>───·───·───·───·─┘\n",
       "│░│   │░░░│   │░░░│   │░░░│  \n",
       "└─·───·───·───·───<span style=\"color:blue; font-weight:bold\">Z</span>───·───·─┐\n",
       "  │░░░│   │░░░│   │░░░│   │░│\n",
       "┌─·───·───·───·───·───·───·─┘\n",
       "│░│   │░░░│   │░░░│   │░░░│  \n",
       "└─·───·───·───·───·───·───<span style=\"color:blue; font-weight:bold\">Z</span>─┐\n",
       "  │░░░│   │░░░│   │░░░│   │░│\n",
       "┌─·───·───·───·───·───·───·─┘\n",
       "│░│   │░░░│   │░░░│   │░░░│  \n",
       "└─·───·───·───<span style=\"color:magenta; font-weight:bold\">Y</span>───·───·───<span style=\"color:magenta; font-weight:bold\">Y</span>  \n",
       "      └───┘   └───┘   └───┘  </pre></div>"
      ],
      "text/plain": [
       "<IPython.core.display.HTML object>"
      ]
     },
     "metadata": {},
     "output_type": "display_data"
    }
   ],
   "source": [
    "# set random seed for reproducibility\n",
    "# rng = np.random.default_rng(12)\n",
    "\n",
    "# set time\n",
    "time = 1e-2\n",
    "# error: random error based on error probability\n",
    "error = my_error_model.generate(my_code, time, rng)\n",
    "qsu.print_pauli('error:\\n{}'.format(my_code.new_pauli(error)))"
   ]
  },
  {
   "cell_type": "code",
   "execution_count": 55,
   "metadata": {},
   "outputs": [
    {
     "data": {
      "text/html": [
       "<div class=\"highlight\"><pre style=\"line-height:1!important;\">syndrome:\n",
       "  ┌───┐   ┌───┐   ┌───┐      \n",
       "  ·───·───·───·───·───·───·─┐\n",
       "  │░<span style=\"color:red; font-weight:bold\">X</span>░│ <span style=\"color:blue; font-weight:bold\">Z</span> │░░░│   │░<span style=\"color:red; font-weight:bold\">X</span>░│   │░│\n",
       "┌─·───·───·───·───·───·───·─┘\n",
       "│░│ <span style=\"color:blue; font-weight:bold\">Z</span> │░░░│   │░<span style=\"color:red; font-weight:bold\">X</span>░│   │░░░│  \n",
       "└─·───·───·───·───·───·───·─┐\n",
       "  │░░░│   │░░░│   │░<span style=\"color:red; font-weight:bold\">X</span>░│   │░│\n",
       "┌─·───·───·───·───·───·───·─┘\n",
       "│░│   │░░░│   │░░░│   │░<span style=\"color:red; font-weight:bold\">X</span>░│  \n",
       "└─·───·───·───·───·───·───·─┐\n",
       "  │░░░│   │░░░│   │░░░│   │░<span style=\"color:red; font-weight:bold\">X</span>\n",
       "┌─·───·───·───·───·───·───·─┘\n",
       "│░│   │░░░│ <span style=\"color:blue; font-weight:bold\">Z</span> │░<span style=\"color:red; font-weight:bold\">X</span>░│   │░<span style=\"color:red; font-weight:bold\">X</span>░│  \n",
       "└─·───·───·───·───·───·───·  \n",
       "      └───┘   └─<span style=\"color:blue; font-weight:bold\">Z</span>─┘   └─<span style=\"color:blue; font-weight:bold\">Z</span>─┘  </pre></div>"
      ],
      "text/plain": [
       "<IPython.core.display.HTML object>"
      ]
     },
     "metadata": {},
     "output_type": "display_data"
    }
   ],
   "source": [
    "# syndrome: stabilizers that do not commute with the error\n",
    "syndrome = pt.bsp(error, my_code.stabilizers.T)\n",
    "qsu.print_pauli('syndrome:\\n{}'.format(my_code.ascii_art(syndrome)))"
   ]
  },
  {
   "cell_type": "code",
   "execution_count": 60,
   "metadata": {},
   "outputs": [
    {
     "data": {
      "text/html": [
       "<div class=\"highlight\"><pre style=\"line-height:1!important;\">recovery:\n",
       "  ┌───┐   ┌───┐   ┌───┐      \n",
       "  <span style=\"color:blue; font-weight:bold\">Z</span>───<span style=\"color:blue; font-weight:bold\">Z</span>───·───·───<span style=\"color:blue; font-weight:bold\">Z</span>───<span style=\"color:blue; font-weight:bold\">Z</span>───·─┐\n",
       "  │░░░│   │░░░│   │░░░│   │░│\n",
       "┌─<span style=\"color:red; font-weight:bold\">X</span>───<span style=\"color:magenta; font-weight:bold\">Y</span>───<span style=\"color:blue; font-weight:bold\">Z</span>───<span style=\"color:blue; font-weight:bold\">Z</span>───<span style=\"color:blue; font-weight:bold\">Z</span>───·───·─┘\n",
       "│░│   │░░░│   │░░░│   │░░░│  \n",
       "└─·───<span style=\"color:red; font-weight:bold\">X</span>───·───·───<span style=\"color:blue; font-weight:bold\">Z</span>───·───·─┐\n",
       "  │░░░│   │░░░│   │░░░│   │░│\n",
       "┌─<span style=\"color:red; font-weight:bold\">X</span>───·───<span style=\"color:red; font-weight:bold\">X</span>───<span style=\"color:red; font-weight:bold\">X</span>───<span style=\"color:red; font-weight:bold\">X</span>───<span style=\"color:red; font-weight:bold\">X</span>───<span style=\"color:red; font-weight:bold\">X</span>─┘\n",
       "│░│   │░░░│   │░░░│   │░░░│  \n",
       "└─<span style=\"color:red; font-weight:bold\">X</span>───·───·───·───·───·───<span style=\"color:blue; font-weight:bold\">Z</span>─┐\n",
       "  │░░░│   │░░░│   │░░░│   │░│\n",
       "┌─·───·───·───·───·───·───·─┘\n",
       "│░│   │░░░│   │░░░│   │░░░│  \n",
       "└─·───·───·───<span style=\"color:magenta; font-weight:bold\">Y</span>───·───·───<span style=\"color:magenta; font-weight:bold\">Y</span>  \n",
       "      └───┘   └───┘   └───┘  </pre></div>"
      ],
      "text/plain": [
       "<IPython.core.display.HTML object>"
      ]
     },
     "metadata": {},
     "output_type": "display_data"
    }
   ],
   "source": [
    "# recovery: best match recovery operation based on decoder\n",
    "recovery = my_decoder.decode(my_code, syndrome)\n",
    "qsu.print_pauli('recovery:\\n{}'.format(my_code.new_pauli(recovery)))"
   ]
  },
  {
   "cell_type": "code",
   "execution_count": 61,
   "metadata": {},
   "outputs": [
    {
     "name": "stdout",
     "output_type": "stream",
     "text": [
      "[0 0 0 0 0 0 0 0 0 0 0 0 0 0 0 0 0 0 0 0 0 0 0 0 0 0 0 0 0 0 0 0 0 0 0 0 0\n",
      " 0 0 0 0 0 0 0 0 0 0 0]\n"
     ]
    }
   ],
   "source": [
    "# check recovery ^ error commutes with stabilizers (by construction)\n",
    "print(pt.bsp(recovery ^ error, my_code.stabilizers.T))"
   ]
  }
 ],
 "metadata": {
  "kernelspec": {
   "display_name": ".venv",
   "language": "python",
   "name": "python3"
  },
  "language_info": {
   "codemirror_mode": {
    "name": "ipython",
    "version": 3
   },
   "file_extension": ".py",
   "mimetype": "text/x-python",
   "name": "python",
   "nbconvert_exporter": "python",
   "pygments_lexer": "ipython3",
   "version": "3.10.10"
  }
 },
 "nbformat": 4,
 "nbformat_minor": 2
}
